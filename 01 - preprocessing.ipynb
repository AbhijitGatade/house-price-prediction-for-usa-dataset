{
 "cells": [
  {
   "cell_type": "code",
   "execution_count": 3,
   "id": "e1eaf672-7df6-4c9f-82ba-44081f341063",
   "metadata": {},
   "outputs": [],
   "source": [
    "import numpy as np\n",
    "import pandas as pd\n",
    "import warnings\n",
    "warnings.filterwarnings('ignore')"
   ]
  },
  {
   "cell_type": "code",
   "execution_count": 96,
   "id": "7d1a80fc-46ae-48c1-95e1-d8ac8e344909",
   "metadata": {},
   "outputs": [],
   "source": [
    "ds = pd.read_csv(\"data.csv\")"
   ]
  },
  {
   "cell_type": "code",
   "execution_count": 7,
   "id": "78b5ca29-ab4a-48dc-b9c7-242730b9406e",
   "metadata": {},
   "outputs": [
    {
     "name": "stdout",
     "output_type": "stream",
     "text": [
      "<class 'pandas.core.frame.DataFrame'>\n",
      "RangeIndex: 500000 entries, 0 to 499999\n",
      "Data columns (total 25 columns):\n",
      " #   Column                           Non-Null Count   Dtype  \n",
      "---  ------                           --------------   -----  \n",
      " 0   No                               500000 non-null  int64  \n",
      " 1   Property_Type                    500000 non-null  object \n",
      " 2   Land_Area                        500000 non-null  int64  \n",
      " 3   Floor_Area                       500000 non-null  int64  \n",
      " 4   Condition                        500000 non-null  object \n",
      " 5   View                             354981 non-null  object \n",
      " 6   Amenities                        419828 non-null  object \n",
      " 7   Furnishing_Status                460291 non-null  object \n",
      " 8   Air_Conditioning (Yes/No)        500000 non-null  object \n",
      " 9   Heating (Yes/No)                 500000 non-null  object \n",
      " 10  Kitchen_Type                     460291 non-null  object \n",
      " 11  Balcony (Yes/No)                 500000 non-null  object \n",
      " 12  Maintenance_Fees                 500000 non-null  int64  \n",
      " 13  Latitude                         500000 non-null  float64\n",
      " 14  Longitude                        500000 non-null  float64\n",
      " 15  Location                         500000 non-null  object \n",
      " 16  Num_bathrooms                    500000 non-null  int64  \n",
      " 17  Num_rooms                        500000 non-null  int64  \n",
      " 18  Price                            500000 non-null  int64  \n",
      " 19  distance to nearest MRT Station  500000 non-null  float64\n",
      " 20  distance to nearest Hospital     500000 non-null  float64\n",
      " 21  distance to nearest School       500000 non-null  float64\n",
      " 22  distance to nearest Bus Stand    500000 non-null  float64\n",
      " 23  distance to nearest Airport      500000 non-null  float64\n",
      " 24  Crimerate in area                500000 non-null  float64\n",
      "dtypes: float64(8), int64(7), object(10)\n",
      "memory usage: 95.4+ MB\n"
     ]
    }
   ],
   "source": [
    "ds.info()"
   ]
  },
  {
   "cell_type": "code",
   "execution_count": 13,
   "id": "6e07aa7b-6521-4234-8558-b27413a95c6c",
   "metadata": {},
   "outputs": [
    {
     "data": {
      "text/plain": [
       "Index(['No', 'Property_Type', 'Land_Area', 'Floor_Area', 'Condition', 'View',\n",
       "       'Amenities', 'Furnishing_Status', 'Air_Conditioning (Yes/No)',\n",
       "       'Heating (Yes/No)', 'Kitchen_Type', 'Balcony (Yes/No)',\n",
       "       'Maintenance_Fees', 'Latitude', 'Longitude', 'Location',\n",
       "       'Num_bathrooms', 'Num_rooms', 'Price',\n",
       "       'distance to nearest MRT Station', 'distance to nearest Hospital',\n",
       "       'distance to nearest School', 'distance to nearest Bus Stand',\n",
       "       'distance to nearest Airport', 'Crimerate in area'],\n",
       "      dtype='object')"
      ]
     },
     "execution_count": 13,
     "metadata": {},
     "output_type": "execute_result"
    }
   ],
   "source": [
    "ds.columns"
   ]
  },
  {
   "cell_type": "code",
   "execution_count": 19,
   "id": "b99d552c-c6a3-4bdd-81e5-3ade6725f872",
   "metadata": {},
   "outputs": [
    {
     "name": "stdout",
     "output_type": "stream",
     "text": [
      "----------------------\n",
      "No\n",
      "[     1      2      3 ... 499998 499999 500000]\n",
      "----------------------\n",
      "Property_Type\n",
      "['Condo' 'Farmhouse' 'Apartment' 'Villa' 'Penthouse' 'Bungalow' 'Land']\n",
      "----------------------\n",
      "Land_Area\n",
      "[ 1784  1768  2667 ... 12246 15562 18217]\n",
      "----------------------\n",
      "Floor_Area\n",
      "[1555 1530 2667 ... 9298 8970 9093]\n",
      "----------------------\n",
      "Condition\n",
      "['New' 'Old' 'Renovated']\n",
      "----------------------\n",
      "View\n",
      "[nan 'City View' 'Park Facing' 'Sea Facing']\n",
      "----------------------\n",
      "Amenities\n",
      "['Basic' 'Rooftop Access' nan 'Parking' 'Parking, Gym'\n",
      " 'Garden, Swimming Pool' 'Shared Gym' 'Parking, Garden, Swimming Pool'\n",
      " 'Swimming Pool, Parking, Garden' 'Parking, Gym, Swimming Pool'\n",
      " 'Garden, Swimming Pool, Gym' 'Garden, Gym' 'Garden, Parking'\n",
      " 'Swimming Pool, Parking' 'Gym, Garden' 'Parking, Garden'\n",
      " 'Gym, Swimming Pool' 'Swimming Pool, Parking, Gym'\n",
      " 'Swimming Pool, Garden, Parking' 'Swimming Pool, Gym'\n",
      " 'Gym, Garden, Parking' 'Swimming Pool, Gym, Parking'\n",
      " 'Gym, Swimming Pool, Garden' 'Parking, Swimming Pool, Gym'\n",
      " 'Gym, Parking, Swimming Pool' 'Garden, Swimming Pool, Parking'\n",
      " 'Swimming Pool, Gym, Garden' 'Gym, Parking' 'Parking, Garden, Gym'\n",
      " 'Gym, Swimming Pool, Parking' 'Parking, Swimming Pool'\n",
      " 'Swimming Pool, Garden, Gym' 'Garden, Gym, Parking'\n",
      " 'Swimming Pool, Garden' 'Parking, Swimming Pool, Garden'\n",
      " 'Gym, Parking, Garden' 'Garden, Parking, Gym'\n",
      " 'Garden, Gym, Swimming Pool' 'Gym, Garden, Swimming Pool'\n",
      " 'Garden, Parking, Swimming Pool' 'Parking, Gym, Garden']\n",
      "----------------------\n",
      "Furnishing_Status\n",
      "['Fully Furnished' 'Semi Furnished' 'Unfurnished' nan]\n",
      "----------------------\n",
      "Air_Conditioning (Yes/No)\n",
      "['No' 'Yes']\n",
      "----------------------\n",
      "Heating (Yes/No)\n",
      "['Yes' 'No']\n",
      "----------------------\n",
      "Kitchen_Type\n",
      "['Semi Modular' 'Normal' 'Modular' nan]\n",
      "----------------------\n",
      "Balcony (Yes/No)\n",
      "['No' 'Yes']\n",
      "----------------------\n",
      "Maintenance_Fees\n",
      "[ 265   98  298  423  466  106  439  264  217  308  761  232  281  297\n",
      "  228  306  744  108   55  548  220  221  432   61  334  131    0  137\n",
      "  151  167  263  679  460  645  399  669  244  358  478  285  210  223\n",
      "  494  447  226  193  216  457  231  243  300  647  320  256  644  129\n",
      "  402   72   50  363  255  176  415  519  585   53   56  481  549  956\n",
      "  206  213  152  104  219  102  200  173  487  436   82  539  786  330\n",
      "  375  189  646  293  431  224  982  394  392  657  335  292  719  749\n",
      "  107  177  280  239  328  266  429  772  468  361  261  241  143  377\n",
      "  479  310  841  362  267  381  428  547  171  196  202  465  250  356\n",
      "  165  449  532  218  424  257  489  253  414  181  396  191   85  349\n",
      "  454  353  318  178  407  229  225   58  238  254  608  145  387  525\n",
      "  119  366  715  277  299  975  705  179  440  769  162  236  322  442\n",
      "   97  180  212  430  405  130  512  388  437  249   83  451  258  128\n",
      "   84  338  642   64  146  271  453  312  445  376  283  878  888  207\n",
      "  524  205  291  323  117  337  270  105  321  132  531  122  750  156\n",
      "  268  443  826  433  314  175  575  113  235  305  409  124   86  262\n",
      "   91  477  406  211  876  567  653  233  666  332  410  784  133  139\n",
      "   99  234   95  379  276  748  458  331  382  745  246  187  278  237\n",
      "  227  720  222  464  754  444  708   66  184  397  163   87  288  160\n",
      "  594  141  484  420  371  134  272  391  544  421  203  345  386  578\n",
      "  865  354  667  452  340  204  552  148  111  275   74  248  360  448\n",
      "  166  390  172  418   73  733  339  857  370  324  546  198  408  507\n",
      "  355  794  461  809  326  368  755  199  986  400  350  290  192  573\n",
      "  490  247  125   54  259  551  240  777  342  245  140  230  521  378\n",
      "  476  252  732   60  183  488  713  351  135  333  214  364  438   92\n",
      "  215   67  500  595   89  456  186  695  123  112  251  153  455  416\n",
      "  847  313  501  282  473  136  555  242  781  103  374  496  403  303\n",
      "   78  336  515  296  413  273  422  182  763  309   81  779  831  352\n",
      "  274  729  316  485  398  383  147  527  341  419  185   52  287  656\n",
      "  269  582   75  985  154   77  743  144  116  155  509  726  598  633\n",
      "  475  787  472  411   63  201  522  459  687  157  558  707  605  208\n",
      "  367  557  304  836  286  295  499  462  315  528  158  791  441  365\n",
      "  435   88  835  425  768  622  463  279  663  538  624  467  343  209\n",
      "  121  427  161  385  127  142  518  788  188  700  417  393   90  284\n",
      "  597  325  195  426   71  486  329  610  450  170  529  913  588  727\n",
      "  497  609  649  498  730  101  470  637  812  600  579  899  164  560\n",
      "   70  109  776  150  505  301  294  797   69  389   62  658  311  630\n",
      "  757   76  698  502  916  570  881  559  471  401  534  684  495  681\n",
      "  796  174  530  620  842  110  628   65  159  692  983  307  474  380\n",
      "  523  801  373  580  480  815  785  491  346  319  535  616  696  780\n",
      "  728  571  765  404  357  492  906  168   57  674  126  818  926  984\n",
      "  709  197  372  114  931  347  770  100  504  724  120   80  344  867\n",
      "  631   96  957  118  584  862  614  910  991  138  673  446  723  714\n",
      "  832  149  553  833  699  635  412  737   68  592  767  739  654  618\n",
      "  511  289  543  907  612  434  880  469   79  799  905  627  746  541\n",
      "  838  773  871  856  327  859   93  722  800  482  115  348  959  850\n",
      "  792  536  660  169  919  874  734  194   51  725  606  747  589  950\n",
      "  603  782  923  893  302  516  885  690  550  863  565  260  638  882\n",
      "  738  665  771  790  639  819  317  493  369  887  604  632  517  711\n",
      "  716  895  693  814  190  783  599  718  803  634  586  542  762  643\n",
      "  774  704  697  483  682  691  668  662  395  928  685  918  629  506\n",
      "  675  735  778  807  554  930  736  884  590  384  561  822  564  972\n",
      "  520  759  611  680  760  958  703  659  670  537  988  927  756  951\n",
      "  883  526  577  825  789  845  672  640  689  974  581  805  947  942\n",
      "  938  621  840  688  741  890  922  652  676  846  766  615  848  962\n",
      "  752  977  651  710  979  613  601  677  694  545  678  980  593  764\n",
      "  742 1000  533  556  855  359  602  914  583  607   59  683  861  901\n",
      "  860  843  971  753  830  566  936  751  967  945  563  798  701  562\n",
      "  837  510  702  721  572  775  661  934  955  671  823  514  998  617\n",
      "  650  655  806  758  648  933  795  513  569  508  937  626  574  968\n",
      "  892  625  894  821   94  804  897  591  921  503  992  576  596  858\n",
      "  870  623  981  953  706  686  898  641  993  636  587  875  920  995\n",
      "  568  969  793  963  902  868  994  802  909  872  886  813  717  820\n",
      "  960  904  540  932  997  900  912  973  731  952  908  664  619  917\n",
      "  954  827  873  740  911  924  943  939  810  869  839  949  915  965\n",
      "  853  941  844  851  996  903  966  816  824  929  889  944  896  987\n",
      "  879  925  999  854  989  866  864  811  829  964  712  808  935  970\n",
      "  978  946  961  891  817  849  940  877  828  990  834  948  852  976]\n",
      "----------------------\n",
      "Latitude\n",
      "[33.637627 37.448494 25.542806 ... 39.262754 41.999587 41.955144]\n",
      "----------------------\n",
      "Longitude\n",
      "[-112.274451 -122.821249  -80.2021   ... -104.888209  -70.75616\n",
      "  -71.31292 ]\n",
      "----------------------\n",
      "Location\n",
      "['Phoenix' 'San Francisco' 'Miami' 'Chicago' 'New York' 'Seattle'\n",
      " 'Los Angeles' 'Denver' 'Houston' 'Boston']\n",
      "----------------------\n",
      "Num_bathrooms\n",
      "[3 2 4 1 6 5 7 0]\n",
      "----------------------\n",
      "Num_rooms\n",
      "[ 2  3  4  6  5  9  8  0  7 10]\n",
      "----------------------\n",
      "Price\n",
      "[ 334126 1895788 4397494 ... 3475517 1616638  718263]\n",
      "----------------------\n",
      "distance to nearest MRT Station\n",
      "[ 7.06  3.96 14.08 ...  9.18 11.13 14.58]\n",
      "----------------------\n",
      "distance to nearest Hospital\n",
      "[11.83 14.28  0.92 ... 12.57 15.93 13.18]\n",
      "----------------------\n",
      "distance to nearest School\n",
      "[ 3.54  1.02  4.94  7.13  7.16  1.41  4.63  7.15  4.64  2.    7.76  8.36\n",
      "  1.61  7.88  6.99  6.22  9.21  4.5   7.38  8.88  7.94  8.57  3.39  0.81\n",
      "  4.05  9.73  7.05  2.7   4.27  3.83  6.36  5.88  1.14  5.85  6.37  7.04\n",
      "  6.77  6.54  5.24  0.8   4.21  8.45  9.76  6.64  7.49  0.51  9.63  1.49\n",
      "  2.75  6.31  1.94  6.91  9.12  8.6   2.23  8.94  7.21  9.46  5.81  5.\n",
      "  3.4   5.07  4.49  8.76  2.53  1.42  4.24  5.92  2.79  8.46  6.05  1.92\n",
      "  8.33  2.32  7.11  1.74  6.13  2.12  1.32  9.98  6.89  6.42  1.18  7.42\n",
      "  5.34  0.66  5.41  3.71  5.75  5.14  7.32  4.11  7.67  5.94  1.44  5.57\n",
      "  7.39  7.86  4.2   7.91  3.77  9.74  1.11  3.55  0.58  4.58  4.86  3.01\n",
      "  2.93  5.31  7.46  4.29  1.98  9.14  6.95  9.47  2.52  5.22  4.32  9.\n",
      "  4.62  6.7   9.86  2.54  6.02  8.61  6.17  5.26  1.37  0.87  4.06  3.32\n",
      "  3.15  9.32  9.44  7.5   2.49  4.91  3.7   3.22  2.14  1.5   4.14  2.43\n",
      "  6.56  0.79  6.74  4.1   6.41  2.28  7.52  9.16  4.84  0.94  5.67  2.71\n",
      "  3.79  5.21  0.85  9.78  9.38  7.08  6.85  9.26  2.72  3.58  4.67  2.08\n",
      "  5.53  5.42  8.34  2.56  1.51  9.79  3.07  3.64  1.7   4.33  6.09  3.89\n",
      "  4.23  3.78  7.89  0.93  4.99  2.66  4.01  2.44  8.25  4.57  8.06  2.82\n",
      "  5.63  9.9   8.51  7.35  2.27  9.35  8.21  8.52  2.04  0.96  6.87  6.27\n",
      "  8.69  5.66  2.92  6.29  7.51  4.82  4.15  5.56  5.06  9.97  0.69  9.67\n",
      "  6.01  7.69  9.55  5.43  4.45  6.11  3.86  7.54  8.03  6.03  6.51  5.69\n",
      "  7.    3.95  9.45  8.39  7.22  3.87  1.01  5.2   2.33  5.36  6.35  7.2\n",
      "  7.8   3.69  9.56  1.48  2.19  2.31  6.39  1.86  8.42  6.88  0.54  0.74\n",
      "  8.83  3.36  6.57  3.3   4.03  2.22  5.12  1.4   2.73  7.29  7.07  2.91\n",
      "  7.99  1.47  0.6   3.98  5.37  2.26  1.9   2.96  6.46  1.22  1.91  2.9\n",
      "  6.16  8.91  2.57  5.23  3.28  2.03  3.42  2.13  6.4   5.29  9.23  6.98\n",
      "  3.26  8.96  2.94  4.79  0.77  8.79  0.83  1.69  1.83  2.21  3.73  1.78\n",
      "  0.65  3.33  4.89  3.25  7.74  3.62  7.26  7.65  8.9   1.75  5.18  9.96\n",
      "  3.97  9.43  2.55  9.42  3.92  6.94  8.02  1.15  6.76  9.88  1.45  6.19\n",
      "  0.9   9.62  3.91  7.57  9.06  6.52  8.1   4.07  9.65  5.59  6.18  6.3\n",
      "  2.77  8.54  7.81  7.55  8.49  2.46  7.24  4.3   1.6   7.83  7.64  4.71\n",
      "  3.66  6.93  4.95  0.89  6.26  5.89  6.83  3.52  1.87  5.99  7.7   5.62\n",
      "  7.19  4.18  1.43  0.82  0.91  0.52  8.23  5.83  8.62  4.87  8.05  4.73\n",
      "  5.25  1.46  1.09  3.06  3.44  5.13  5.78  3.84  3.35  8.01  9.77  8.29\n",
      "  2.88  6.67  2.8   0.72  7.25  9.33  0.62  4.78  9.01  4.44  4.19  4.41\n",
      "  1.79  7.78  5.47  9.34  9.05  4.36  6.53  0.7   8.73  8.26  7.28  2.84\n",
      "  2.2   9.18  4.4   3.81  6.86  9.22  8.47  1.29  3.96  7.48  5.7   4.93\n",
      "  7.77  4.83  5.08  4.43  0.5   9.24  1.76  1.36  4.76  2.39  1.35  6.04\n",
      "  3.49  3.19  9.07  4.59  1.99  5.6   3.13  4.42  4.54  3.27  8.84  3.48\n",
      "  0.99  3.94  9.04  3.03  8.4   1.96  8.95  5.09  4.9   8.12  2.86  1.52\n",
      "  0.78  2.25  1.73  5.82  6.84  0.67  3.57  8.87  5.87  3.14  1.39  1.81\n",
      "  5.11  5.44  9.94  8.92  3.37  4.35  8.99  4.85  8.15  5.58  6.25  0.57\n",
      "  4.16  1.53  9.85  8.16  3.09  4.09  6.92  3.45  5.97  3.46  1.04  7.06\n",
      "  9.7   8.86  2.65  0.61  1.89  3.74  3.31  6.72  2.05  4.7   4.92  8.75\n",
      "  7.97  7.27  2.47  7.3   4.17  9.66  9.72  2.51  8.81  2.16  0.55  4.47\n",
      "  8.17  7.18  9.49  8.56  3.34  1.23  4.39  8.43  2.64  1.77  6.43  6.59\n",
      "  1.28  1.56  3.76  1.63  9.4   5.54  7.1   8.55  4.48  7.75  7.6   6.24\n",
      "  3.04  7.12  9.19  5.96  2.15  4.8   9.36  1.88  5.91  5.1   5.28  4.74\n",
      "  1.55  8.72  7.66  2.85  3.23  8.37  4.26  7.4   5.73  9.37  4.37  5.51\n",
      "  2.69  7.63  3.72  9.57  2.67  3.    8.85  1.24  3.05  8.07  9.81  9.84\n",
      "  8.67  5.35  2.02  7.85  7.84  6.5   9.69  3.2   8.97  9.27  0.53  7.41\n",
      "  9.93  1.27  6.8   1.05  9.83  8.38  7.17  8.22  9.15  5.19  8.89  4.98\n",
      "  4.96  4.25  6.55  2.01  4.75  8.3   2.3   8.    1.21  8.68  5.04  5.5\n",
      "  7.34  9.91  6.62  1.67  1.25  5.33  7.37  2.68  7.47  9.68  5.46  2.29\n",
      "  9.5   6.58  3.8   2.58  7.82  8.98  9.11  6.48  1.97  1.08  8.28  6.23\n",
      "  8.35  1.8   6.71  5.86  9.28  3.75  7.01  7.36  9.6   8.64  5.15  1.68\n",
      "  2.89  2.42  1.    2.97  3.5   7.03  8.8   8.71  9.3   1.33  6.    4.38\n",
      "  1.57  5.77  6.69  6.12  3.38  5.01  7.93  3.08  1.31  7.96  3.51  6.44\n",
      "  3.61  0.56  9.08  4.    9.03  4.02  2.36  8.31  7.87  0.76  1.84  5.8\n",
      "  4.68  7.56  5.38  1.07  1.54  3.11  7.43  2.59  1.72  8.74  5.74  2.24\n",
      "  7.95  6.1   7.33  4.46  4.34  2.63  2.1   2.74  2.95  8.41  4.28  6.45\n",
      "  5.39  3.9   3.93  9.02  2.37  5.84  2.09  0.71  6.63  3.24  3.99  9.87\n",
      "  9.89  4.31  9.2   6.33  3.63  8.18  7.02  4.65  8.59  6.78  1.38  6.65\n",
      "  9.82  8.2   2.78  2.11  0.92  6.81  6.97  0.98  5.03  4.72  6.68  5.9\n",
      "  9.75  4.69  6.6   7.53  9.95  8.24  7.9   0.86  4.08  1.26  1.95  7.09\n",
      "  6.32  4.04  9.39  1.62  6.49  3.02  6.75  1.58  4.88  9.54  1.06  5.48\n",
      "  5.3   5.16  8.13  2.34  2.38  9.13  7.58  6.34  6.38  9.71  2.81  7.31\n",
      "  0.59  8.48  8.14  4.53 10.    3.17  5.68  5.32  5.55  3.18  1.66  8.7\n",
      "  6.06  5.65  9.92  2.48  8.44  1.34  6.79  3.29  3.41  4.77  3.67  8.5\n",
      "  2.99  9.48  6.07  4.12  3.68  5.79  5.49  2.5   7.68  2.35  6.21  4.81\n",
      "  7.61  4.61  3.1   6.82  0.95  1.3   4.22  8.58  7.14  3.47  6.15  8.32\n",
      "  8.77  9.58  5.95  3.88  5.52  2.61  8.19  0.88  9.25  5.76  0.64  0.84\n",
      "  8.09  1.64  9.61  8.65  5.17  3.12  8.93  7.92  2.4   3.59  9.09  9.29\n",
      "  6.28  2.07  3.85  3.16  4.13  3.65  9.17  6.2   6.66  6.47  5.71  8.66\n",
      "  9.31  8.63  3.82  7.62  8.11  2.62  8.27  1.82  6.14  0.73  2.18  0.68\n",
      "  7.71  2.76  5.02  7.72  0.97  9.99  8.04  3.43  8.78  9.64  7.44  2.6\n",
      "  2.06  9.51  9.8   2.45  1.85  9.41  2.41  2.98  5.45  5.98  3.6   6.61\n",
      "  4.66  1.71  4.52  5.61  9.53  1.1   4.97  1.2   2.83  1.19  6.73  8.82\n",
      "  0.75  3.56  9.59  7.73  1.03  9.52  9.1   4.51  5.05  7.79  7.59  4.6\n",
      "  1.65  6.96  1.12  1.13  6.9   5.72  6.08  1.17  3.53  5.64  2.87  0.63\n",
      "  2.17  1.59  7.98  8.53  5.27  4.56  5.4   7.45  3.21  7.23  4.55  1.93\n",
      "  5.93  1.16  8.08]\n",
      "----------------------\n",
      "distance to nearest Bus Stand\n",
      "[2.67 1.21 0.62 0.39 4.56 1.08 4.05 3.21 4.39 1.12 2.54 4.48 0.3  1.64\n",
      " 1.17 4.04 3.86 3.49 4.62 2.16 3.48 2.72 3.43 3.67 3.39 4.38 0.49 3.61\n",
      " 2.57 2.44 0.43 0.5  2.32 3.53 1.48 4.37 2.59 2.39 0.36 2.85 2.43 0.61\n",
      " 2.93 4.72 1.54 2.58 3.37 0.71 1.13 1.53 4.43 1.79 2.62 2.38 2.23 3.98\n",
      " 1.92 3.15 2.11 0.67 3.96 3.76 0.34 0.7  0.83 3.62 2.34 3.14 2.46 3.87\n",
      " 1.3  1.01 1.34 1.99 3.68 2.15 4.69 3.73 2.88 1.73 3.91 4.53 3.54 0.75\n",
      " 2.86 0.11 2.06 4.86 3.22 4.22 0.91 1.71 0.13 4.41 4.76 3.44 3.24 4.92\n",
      " 3.42 1.96 4.27 3.03 2.83 0.53 2.56 0.35 3.52 0.95 0.88 3.01 3.18 2.14\n",
      " 0.28 1.   2.17 2.09 4.35 3.33 2.63 0.25 1.47 3.59 2.27 2.4  3.16 3.25\n",
      " 4.91 0.17 2.89 3.81 0.37 3.6  0.18 0.22 0.86 0.58 1.9  3.09 1.23 0.69\n",
      " 2.21 3.45 2.37 2.25 2.84 2.98 2.08 4.4  1.58 3.7  4.8  3.3  1.31 1.41\n",
      " 0.94 2.19 1.82 1.07 2.49 4.93 4.99 4.68 3.38 4.11 0.84 1.22 0.79 2.47\n",
      " 3.55 2.9  0.9  3.85 1.93 3.66 0.65 3.5  2.91 4.08 0.41 0.74 4.17 1.4\n",
      " 2.05 4.97 4.71 1.11 4.6  1.61 1.59 4.1  2.99 1.16 3.57 1.09 2.82 3.08\n",
      " 1.25 4.19 1.29 1.75 2.02 3.74 3.75 0.81 4.7  1.76 4.09 0.46 3.41 0.64\n",
      " 0.15 3.63 3.19 4.29 2.92 3.58 1.66 2.8  3.31 1.49 4.36 4.83 2.68 4.75\n",
      " 2.24 0.2  1.52 4.3  1.7  2.74 4.25 3.23 3.95 1.18 2.04 1.67 1.57 2.41\n",
      " 0.12 2.35 4.55 1.04 5.   1.42 3.89 4.67 0.4  4.66 3.1  1.88 2.01 2.71\n",
      " 4.89 1.86 2.81 4.32 4.28 0.27 4.95 2.97 0.19 0.47 2.2  3.07 4.79 1.37\n",
      " 4.49 2.96 0.57 3.9  4.12 2.53 0.38 4.52 0.21 0.77 2.07 1.46 2.75 2.48\n",
      " 2.64 4.47 1.2  1.84 1.74 4.31 4.94 3.26 1.87 4.03 3.35 0.66 4.82 0.48\n",
      " 3.77 3.36 1.95 0.98 0.93 1.78 3.94 0.24 4.14 4.87 4.13 1.91 0.16 3.46\n",
      " 1.05 4.73 4.9  0.54 1.97 2.52 4.5  3.88 1.24 3.   3.34 0.59 4.33 0.26\n",
      " 1.89 0.97 4.   2.73 1.1  1.6  3.05 3.79 2.94 4.57 1.62 0.56 1.38 4.54\n",
      " 0.73 1.26 4.81 3.65 3.69 2.79 3.04 4.78 4.84 0.68 3.83 4.96 0.14 2.77\n",
      " 1.39 2.65 0.72 1.8  2.12 2.55 4.85 2.5  1.28 1.44 1.35 0.85 4.74 3.06\n",
      " 1.32 1.19 3.72 4.59 3.97 2.45 4.23 2.03 4.2  4.01 1.63 2.6  0.23 0.33\n",
      " 4.63 3.84 0.44 3.92 0.6  4.24 1.14 3.29 0.31 1.55 2.66 4.34 1.02 1.45\n",
      " 4.42 1.77 1.36 0.89 2.7  1.03 2.76 3.99 2.22 2.31 2.29 3.32 2.51 0.45\n",
      " 2.69 3.12 4.16 1.85 2.36 1.83 1.65 1.98 1.27 0.1  4.88 0.52 3.11 4.98\n",
      " 1.33 4.45 2.87 4.21 4.65 2.   2.13 0.42 4.15 2.78 4.58 3.27 1.68 4.46\n",
      " 2.26 0.96 0.92 0.76 3.82 3.93 2.42 4.07 1.5  0.87 3.51 3.64 0.8  4.51\n",
      " 3.2  3.4  3.28 2.95 0.99 0.55 2.33 4.61 4.64 1.43 4.26 1.94 4.44 4.02\n",
      " 0.29 1.81 2.18 0.78 2.3  3.47 3.78 1.56 1.06 2.1  0.63 3.56 2.61 1.15\n",
      " 0.51 1.51 0.82 3.8  1.69 3.71 2.28 0.32 1.72 3.02 4.06 4.18 3.13 3.17\n",
      " 4.77]\n",
      "----------------------\n",
      "distance to nearest Airport\n",
      "[45.83 21.99 11.06 ... 47.8  45.35 21.4 ]\n",
      "----------------------\n",
      "Crimerate in area\n",
      "[ 9.9  7.7  5.3  8.9  8.2  8.1  6.4  8.5  9.5  7.9  4.1  4.5  9.2  7.3\n",
      "  4.   7.4  1.2  8.7  8.3  7.6  9.4  2.9  9.   6.7  4.4  4.9  8.   7.8\n",
      "  8.4  5.7  5.5  9.1  5.1  6.8  8.8  3.1  9.3  6.3  8.6 10.   3.7  5.4\n",
      "  2.5  4.6  3.5  9.6  6.1  6.6  1.7  3.6  7.   2.6  7.2  6.   2.1  9.8\n",
      "  5.8  7.5  5.9  3.2  5.   6.9  4.7  7.1  1.3  3.4  4.8  6.2  2.4  9.7\n",
      "  3.3  4.3  2.2  1.8  6.5  3.9  5.6  4.2  2.7  3.8  3.   5.2  2.   2.8\n",
      "  1.9  2.3  1.5  1.6  1.4]\n"
     ]
    }
   ],
   "source": [
    "for column in ds.columns:\n",
    "    print(\"----------------------\")\n",
    "    print(column)\n",
    "    print(ds[column].unique())"
   ]
  },
  {
   "cell_type": "code",
   "execution_count": 23,
   "id": "5c2ae3c7-d9a0-46aa-8992-ba9d793a9543",
   "metadata": {},
   "outputs": [],
   "source": [
    "#'View', 'Amenities', 'Furnishing_Status','Kitchen_Type'"
   ]
  },
  {
   "cell_type": "code",
   "execution_count": 98,
   "id": "a818ee0f-29d7-4c09-8880-93b1f70982b0",
   "metadata": {},
   "outputs": [
    {
     "data": {
      "text/plain": [
       "array([nan, 'City View', 'Park Facing', 'Sea Facing'], dtype=object)"
      ]
     },
     "execution_count": 98,
     "metadata": {},
     "output_type": "execute_result"
    }
   ],
   "source": [
    "ds[\"View\"].unique()"
   ]
  },
  {
   "cell_type": "code",
   "execution_count": 100,
   "id": "b095b64d-16ca-4f6f-8802-0ed941fa0052",
   "metadata": {},
   "outputs": [],
   "source": [
    "ds['View'].fillna('No View', inplace=True)"
   ]
  },
  {
   "cell_type": "code",
   "execution_count": 102,
   "id": "da42e92d-ec6c-4aed-b63f-dfbfe8db97ee",
   "metadata": {},
   "outputs": [
    {
     "data": {
      "text/plain": [
       "array(['Fully Furnished', 'Semi Furnished', 'Unfurnished', nan],\n",
       "      dtype=object)"
      ]
     },
     "execution_count": 102,
     "metadata": {},
     "output_type": "execute_result"
    }
   ],
   "source": [
    "ds[\"Furnishing_Status\"].unique()"
   ]
  },
  {
   "cell_type": "code",
   "execution_count": 104,
   "id": "58015883-bf4e-4d80-97f2-6665790ff07a",
   "metadata": {},
   "outputs": [
    {
     "data": {
      "text/plain": [
       "array(['Land'], dtype=object)"
      ]
     },
     "execution_count": 104,
     "metadata": {},
     "output_type": "execute_result"
    }
   ],
   "source": [
    "ds[ds[\"Furnishing_Status\"].isna()][\"Property_Type\"].unique()"
   ]
  },
  {
   "cell_type": "code",
   "execution_count": 106,
   "id": "367ca260-5b06-4af0-8e41-af55711f981b",
   "metadata": {},
   "outputs": [],
   "source": [
    "ds['Furnishing_Status'].fillna('Not Needed', inplace=True)"
   ]
  },
  {
   "cell_type": "code",
   "execution_count": 108,
   "id": "a58ddd5c-575d-48d9-8160-706ba648a070",
   "metadata": {},
   "outputs": [
    {
     "data": {
      "text/plain": [
       "array(['Semi Modular', 'Normal', 'Modular', nan], dtype=object)"
      ]
     },
     "execution_count": 108,
     "metadata": {},
     "output_type": "execute_result"
    }
   ],
   "source": [
    "ds[\"Kitchen_Type\"].unique()"
   ]
  },
  {
   "cell_type": "code",
   "execution_count": 110,
   "id": "638dbaa5-8150-460a-bd3d-48b7265cee4d",
   "metadata": {},
   "outputs": [
    {
     "data": {
      "text/plain": [
       "array(['Land'], dtype=object)"
      ]
     },
     "execution_count": 110,
     "metadata": {},
     "output_type": "execute_result"
    }
   ],
   "source": [
    "ds[ds[\"Kitchen_Type\"].isna()][\"Property_Type\"].unique()"
   ]
  },
  {
   "cell_type": "code",
   "execution_count": 112,
   "id": "dfda6e11-7650-431e-a872-0f6e7b474f4f",
   "metadata": {},
   "outputs": [],
   "source": [
    "ds['Kitchen_Type'].fillna('Not Needed', inplace=True)"
   ]
  },
  {
   "cell_type": "code",
   "execution_count": 114,
   "id": "21f83144-e617-4dd1-afe3-b8ec53ee307f",
   "metadata": {},
   "outputs": [
    {
     "data": {
      "text/plain": [
       "array(['Phoenix', 'San Francisco', 'Miami', 'Chicago', 'New York',\n",
       "       'Seattle', 'Los Angeles', 'Denver', 'Houston', 'Boston'],\n",
       "      dtype=object)"
      ]
     },
     "execution_count": 114,
     "metadata": {},
     "output_type": "execute_result"
    }
   ],
   "source": [
    "ds[\"Location\"].unique()"
   ]
  },
  {
   "cell_type": "code",
   "execution_count": 116,
   "id": "8de07e7c-0bf4-4990-b3dc-4d816c015c25",
   "metadata": {},
   "outputs": [
    {
     "data": {
      "text/plain": [
       "array(['Basic', 'Rooftop Access', nan, 'Parking', 'Parking, Gym',\n",
       "       'Garden, Swimming Pool', 'Shared Gym',\n",
       "       'Parking, Garden, Swimming Pool', 'Swimming Pool, Parking, Garden',\n",
       "       'Parking, Gym, Swimming Pool', 'Garden, Swimming Pool, Gym',\n",
       "       'Garden, Gym', 'Garden, Parking', 'Swimming Pool, Parking',\n",
       "       'Gym, Garden', 'Parking, Garden', 'Gym, Swimming Pool',\n",
       "       'Swimming Pool, Parking, Gym', 'Swimming Pool, Garden, Parking',\n",
       "       'Swimming Pool, Gym', 'Gym, Garden, Parking',\n",
       "       'Swimming Pool, Gym, Parking', 'Gym, Swimming Pool, Garden',\n",
       "       'Parking, Swimming Pool, Gym', 'Gym, Parking, Swimming Pool',\n",
       "       'Garden, Swimming Pool, Parking', 'Swimming Pool, Gym, Garden',\n",
       "       'Gym, Parking', 'Parking, Garden, Gym',\n",
       "       'Gym, Swimming Pool, Parking', 'Parking, Swimming Pool',\n",
       "       'Swimming Pool, Garden, Gym', 'Garden, Gym, Parking',\n",
       "       'Swimming Pool, Garden', 'Parking, Swimming Pool, Garden',\n",
       "       'Gym, Parking, Garden', 'Garden, Parking, Gym',\n",
       "       'Garden, Gym, Swimming Pool', 'Gym, Garden, Swimming Pool',\n",
       "       'Garden, Parking, Swimming Pool', 'Parking, Gym, Garden'],\n",
       "      dtype=object)"
      ]
     },
     "execution_count": 116,
     "metadata": {},
     "output_type": "execute_result"
    }
   ],
   "source": [
    "ds[\"Amenities\"].unique()"
   ]
  },
  {
   "cell_type": "code",
   "execution_count": 118,
   "id": "44c82a12-cabc-41d5-abda-e6a9ec6ae654",
   "metadata": {},
   "outputs": [],
   "source": [
    "ds['Amenities'].fillna('', inplace=True)"
   ]
  },
  {
   "cell_type": "code",
   "execution_count": 120,
   "id": "94bbfdec-08b3-4c1e-a485-f07cc215c659",
   "metadata": {},
   "outputs": [
    {
     "name": "stdout",
     "output_type": "stream",
     "text": [
      "['Parking', 'Shared Gym', 'Garden', 'Swimming Pool', 'Rooftop Access', 'Basic', 'Gym']\n"
     ]
    }
   ],
   "source": [
    "unique_amenities = set()\n",
    "ds['Amenities'].dropna().str.split(',').apply(lambda x: unique_amenities.update(item.strip() for item in x if item.strip()))\n",
    "# Convert set to list if needed\n",
    "unique_amenities_list = list(unique_amenities)\n",
    "print(unique_amenities_list)"
   ]
  },
  {
   "cell_type": "code",
   "execution_count": 122,
   "id": "4fe9cc08-92d1-45d3-867a-a928dc3ba395",
   "metadata": {},
   "outputs": [],
   "source": [
    "for amenity in unique_amenities_list:\n",
    "    ds[amenity] = \"No\""
   ]
  },
  {
   "cell_type": "code",
   "execution_count": 124,
   "id": "6e5ce858-72a8-4921-bfd1-409227560991",
   "metadata": {},
   "outputs": [],
   "source": [
    "# for amenity in unique_amenities_list:\n",
    "#     for i in ds.index:\n",
    "#         if amenity in ds.loc[i, \"Amenities\"]:\n",
    "#             ds.loc[i, amenity] = \"Yes\"\n",
    "for amenity in unique_amenities_list:\n",
    "    ds[amenity] = ds['Amenities'].apply(lambda x: 'Yes' if amenity in x else 'No')"
   ]
  },
  {
   "cell_type": "code",
   "execution_count": 130,
   "id": "6def63a1-0b79-49b0-b812-c42be90e9ebf",
   "metadata": {},
   "outputs": [],
   "source": [
    "ds = ds.drop('Amenities', axis=1)"
   ]
  },
  {
   "cell_type": "code",
   "execution_count": 134,
   "id": "60da52cf-ec01-41fd-a9e9-9e5c5e531f06",
   "metadata": {},
   "outputs": [
    {
     "name": "stdout",
     "output_type": "stream",
     "text": [
      "<class 'pandas.core.frame.DataFrame'>\n",
      "RangeIndex: 500000 entries, 0 to 499999\n",
      "Data columns (total 31 columns):\n",
      " #   Column                           Non-Null Count   Dtype  \n",
      "---  ------                           --------------   -----  \n",
      " 0   No                               500000 non-null  int64  \n",
      " 1   Property_Type                    500000 non-null  object \n",
      " 2   Land_Area                        500000 non-null  int64  \n",
      " 3   Floor_Area                       500000 non-null  int64  \n",
      " 4   Condition                        500000 non-null  object \n",
      " 5   View                             500000 non-null  object \n",
      " 6   Furnishing_Status                500000 non-null  object \n",
      " 7   Air_Conditioning (Yes/No)        500000 non-null  object \n",
      " 8   Heating (Yes/No)                 500000 non-null  object \n",
      " 9   Kitchen_Type                     500000 non-null  object \n",
      " 10  Balcony (Yes/No)                 500000 non-null  object \n",
      " 11  Maintenance_Fees                 500000 non-null  int64  \n",
      " 12  Latitude                         500000 non-null  float64\n",
      " 13  Longitude                        500000 non-null  float64\n",
      " 14  Location                         500000 non-null  object \n",
      " 15  Num_bathrooms                    500000 non-null  int64  \n",
      " 16  Num_rooms                        500000 non-null  int64  \n",
      " 17  Price                            500000 non-null  int64  \n",
      " 18  distance to nearest MRT Station  500000 non-null  float64\n",
      " 19  distance to nearest Hospital     500000 non-null  float64\n",
      " 20  distance to nearest School       500000 non-null  float64\n",
      " 21  distance to nearest Bus Stand    500000 non-null  float64\n",
      " 22  distance to nearest Airport      500000 non-null  float64\n",
      " 23  Crimerate in area                500000 non-null  float64\n",
      " 24  Parking                          500000 non-null  object \n",
      " 25  Shared Gym                       500000 non-null  object \n",
      " 26  Garden                           500000 non-null  object \n",
      " 27  Swimming Pool                    500000 non-null  object \n",
      " 28  Rooftop Access                   500000 non-null  object \n",
      " 29  Basic                            500000 non-null  object \n",
      " 30  Gym                              500000 non-null  object \n",
      "dtypes: float64(8), int64(7), object(16)\n",
      "memory usage: 118.3+ MB\n"
     ]
    }
   ],
   "source": [
    "ds.info()"
   ]
  },
  {
   "cell_type": "code",
   "execution_count": 136,
   "id": "fa203cdb-92e4-44ad-83e1-621e83a2d820",
   "metadata": {},
   "outputs": [],
   "source": [
    "ds.to_csv(\"cleaned_data.csv\")"
   ]
  },
  {
   "cell_type": "code",
   "execution_count": null,
   "id": "b15eb4cf-550f-4cfc-b367-689bf26cd37f",
   "metadata": {},
   "outputs": [],
   "source": []
  }
 ],
 "metadata": {
  "kernelspec": {
   "display_name": "Python [conda env:base] *",
   "language": "python",
   "name": "conda-base-py"
  },
  "language_info": {
   "codemirror_mode": {
    "name": "ipython",
    "version": 3
   },
   "file_extension": ".py",
   "mimetype": "text/x-python",
   "name": "python",
   "nbconvert_exporter": "python",
   "pygments_lexer": "ipython3",
   "version": "3.12.7"
  }
 },
 "nbformat": 4,
 "nbformat_minor": 5
}
